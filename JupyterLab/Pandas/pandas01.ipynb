{
 "cells": [
  {
   "cell_type": "markdown",
   "id": "a811956e-a354-4168-8f3b-b97576516fc6",
   "metadata": {
    "tags": []
   },
   "source": [
    "# Introduccion a Pandas"
   ]
  },
  {
   "cell_type": "code",
   "execution_count": 1,
   "id": "91620be8-58a4-46de-b1a0-699b5662c9d9",
   "metadata": {
    "tags": []
   },
   "outputs": [],
   "source": [
    "import numpy as np\n",
    "import pandas as pd"
   ]
  },
  {
   "cell_type": "code",
   "execution_count": 4,
   "id": "c52daf34-e124-4141-8df5-d3e0dd28578e",
   "metadata": {
    "tags": []
   },
   "outputs": [
    {
     "data": {
      "text/html": [
       "<div>\n",
       "<style scoped>\n",
       "    .dataframe tbody tr th:only-of-type {\n",
       "        vertical-align: middle;\n",
       "    }\n",
       "\n",
       "    .dataframe tbody tr th {\n",
       "        vertical-align: top;\n",
       "    }\n",
       "\n",
       "    .dataframe thead th {\n",
       "        text-align: right;\n",
       "    }\n",
       "</style>\n",
       "<table border=\"1\" class=\"dataframe\">\n",
       "  <thead>\n",
       "    <tr style=\"text-align: right;\">\n",
       "      <th></th>\n",
       "      <th>0</th>\n",
       "      <th>1</th>\n",
       "      <th>2</th>\n",
       "      <th>3</th>\n",
       "    </tr>\n",
       "  </thead>\n",
       "  <tbody>\n",
       "    <tr>\n",
       "      <th>0</th>\n",
       "      <td>1</td>\n",
       "      <td>2</td>\n",
       "      <td>3</td>\n",
       "      <td>4</td>\n",
       "    </tr>\n",
       "    <tr>\n",
       "      <th>1</th>\n",
       "      <td>3</td>\n",
       "      <td>4</td>\n",
       "      <td>5</td>\n",
       "      <td>6</td>\n",
       "    </tr>\n",
       "    <tr>\n",
       "      <th>2</th>\n",
       "      <td>A</td>\n",
       "      <td>B</td>\n",
       "      <td>C</td>\n",
       "      <td>D</td>\n",
       "    </tr>\n",
       "  </tbody>\n",
       "</table>\n",
       "</div>"
      ],
      "text/plain": [
       "   0  1  2  3\n",
       "0  1  2  3  4\n",
       "1  3  4  5  6\n",
       "2  A  B  C  D"
      ]
     },
     "execution_count": 4,
     "metadata": {},
     "output_type": "execute_result"
    }
   ],
   "source": [
    "df = pd.DataFrame([[1,2,3,4],[3,4,5,6],[\"A\", \"B\", \"C\", \"D\"]])\n",
    "df"
   ]
  },
  {
   "cell_type": "code",
   "execution_count": 6,
   "id": "2c0644ca-1d54-439f-92fb-4afe52ee82c8",
   "metadata": {
    "tags": []
   },
   "outputs": [
    {
     "data": {
      "text/plain": [
       "DatetimeIndex(['2023-03-27', '2023-03-28', '2023-03-29', '2023-03-30',\n",
       "               '2023-03-31', '2023-04-01', '2023-04-02'],\n",
       "              dtype='datetime64[ns]', freq='D')"
      ]
     },
     "execution_count": 6,
     "metadata": {},
     "output_type": "execute_result"
    }
   ],
   "source": [
    "fechas = pd.date_range(\"20230327\", periods=7)\n",
    "fechas"
   ]
  },
  {
   "cell_type": "code",
   "execution_count": 8,
   "id": "41dbdb22-ddbf-4cdf-b4e2-0d006096f8f4",
   "metadata": {
    "tags": []
   },
   "outputs": [
    {
     "data": {
      "text/plain": [
       "array([[ 1.01885628, -1.23971287, -1.51023271, -0.26376313],\n",
       "       [ 0.57996247, -0.52242902, -1.58894342,  0.47695838],\n",
       "       [ 0.17121959,  0.49638929,  0.37078914, -0.76562765],\n",
       "       [-0.69294349, -1.01222939,  0.75314401, -0.86807055],\n",
       "       [-0.81513323,  0.646978  , -0.31767986,  1.19249188],\n",
       "       [-1.05770953,  0.52183135,  0.50104639, -0.99595608],\n",
       "       [ 0.77411658,  0.21694165, -1.17815115, -0.48030167]])"
      ]
     },
     "execution_count": 8,
     "metadata": {},
     "output_type": "execute_result"
    }
   ],
   "source": [
    "matriz = np.random.normal(0, 1, (7,4))\n",
    "matriz"
   ]
  },
  {
   "cell_type": "code",
   "execution_count": 13,
   "id": "d15c0867-a6a6-40e2-9a31-332a755cf47f",
   "metadata": {
    "tags": []
   },
   "outputs": [
    {
     "data": {
      "text/html": [
       "<div>\n",
       "<style scoped>\n",
       "    .dataframe tbody tr th:only-of-type {\n",
       "        vertical-align: middle;\n",
       "    }\n",
       "\n",
       "    .dataframe tbody tr th {\n",
       "        vertical-align: top;\n",
       "    }\n",
       "\n",
       "    .dataframe thead th {\n",
       "        text-align: right;\n",
       "    }\n",
       "</style>\n",
       "<table border=\"1\" class=\"dataframe\">\n",
       "  <thead>\n",
       "    <tr style=\"text-align: right;\">\n",
       "      <th></th>\n",
       "      <th>Id</th>\n",
       "      <th>nombre</th>\n",
       "      <th>edad</th>\n",
       "      <th>Genero</th>\n",
       "    </tr>\n",
       "  </thead>\n",
       "  <tbody>\n",
       "    <tr>\n",
       "      <th>2023-03-27</th>\n",
       "      <td>1.018856</td>\n",
       "      <td>-1.239713</td>\n",
       "      <td>-1.510233</td>\n",
       "      <td>-0.263763</td>\n",
       "    </tr>\n",
       "    <tr>\n",
       "      <th>2023-03-28</th>\n",
       "      <td>0.579962</td>\n",
       "      <td>-0.522429</td>\n",
       "      <td>-1.588943</td>\n",
       "      <td>0.476958</td>\n",
       "    </tr>\n",
       "    <tr>\n",
       "      <th>2023-03-29</th>\n",
       "      <td>0.171220</td>\n",
       "      <td>0.496389</td>\n",
       "      <td>0.370789</td>\n",
       "      <td>-0.765628</td>\n",
       "    </tr>\n",
       "    <tr>\n",
       "      <th>2023-03-30</th>\n",
       "      <td>-0.692943</td>\n",
       "      <td>-1.012229</td>\n",
       "      <td>0.753144</td>\n",
       "      <td>-0.868071</td>\n",
       "    </tr>\n",
       "    <tr>\n",
       "      <th>2023-03-31</th>\n",
       "      <td>-0.815133</td>\n",
       "      <td>0.646978</td>\n",
       "      <td>-0.317680</td>\n",
       "      <td>1.192492</td>\n",
       "    </tr>\n",
       "    <tr>\n",
       "      <th>2023-04-01</th>\n",
       "      <td>-1.057710</td>\n",
       "      <td>0.521831</td>\n",
       "      <td>0.501046</td>\n",
       "      <td>-0.995956</td>\n",
       "    </tr>\n",
       "    <tr>\n",
       "      <th>2023-04-02</th>\n",
       "      <td>0.774117</td>\n",
       "      <td>0.216942</td>\n",
       "      <td>-1.178151</td>\n",
       "      <td>-0.480302</td>\n",
       "    </tr>\n",
       "  </tbody>\n",
       "</table>\n",
       "</div>"
      ],
      "text/plain": [
       "                  Id    nombre      edad    Genero\n",
       "2023-03-27  1.018856 -1.239713 -1.510233 -0.263763\n",
       "2023-03-28  0.579962 -0.522429 -1.588943  0.476958\n",
       "2023-03-29  0.171220  0.496389  0.370789 -0.765628\n",
       "2023-03-30 -0.692943 -1.012229  0.753144 -0.868071\n",
       "2023-03-31 -0.815133  0.646978 -0.317680  1.192492\n",
       "2023-04-01 -1.057710  0.521831  0.501046 -0.995956\n",
       "2023-04-02  0.774117  0.216942 -1.178151 -0.480302"
      ]
     },
     "execution_count": 13,
     "metadata": {},
     "output_type": "execute_result"
    }
   ],
   "source": [
    "df1 = pd.DataFrame(matriz, index=fechas, columns=[\"Id\", \"nombre\", \"edad\", \"Genero\"])\n",
    "df1"
   ]
  },
  {
   "cell_type": "code",
   "execution_count": 27,
   "id": "d0ad38ea-e022-4cad-995b-de1566b9af3d",
   "metadata": {
    "tags": []
   },
   "outputs": [
    {
     "data": {
      "text/plain": [
       "[1, 2, 3, 1, 2, 3, 1, 2, 3]"
      ]
     },
     "execution_count": 27,
     "metadata": {},
     "output_type": "execute_result"
    }
   ],
   "source": [
    "[1,2,3]*3"
   ]
  },
  {
   "cell_type": "code",
   "execution_count": 26,
   "id": "c3c3b013-9335-42d3-a6a8-4afd7f4fed36",
   "metadata": {
    "tags": []
   },
   "outputs": [
    {
     "data": {
      "text/html": [
       "<div>\n",
       "<style scoped>\n",
       "    .dataframe tbody tr th:only-of-type {\n",
       "        vertical-align: middle;\n",
       "    }\n",
       "\n",
       "    .dataframe tbody tr th {\n",
       "        vertical-align: top;\n",
       "    }\n",
       "\n",
       "    .dataframe thead th {\n",
       "        text-align: right;\n",
       "    }\n",
       "</style>\n",
       "<table border=\"1\" class=\"dataframe\">\n",
       "  <thead>\n",
       "    <tr style=\"text-align: right;\">\n",
       "      <th></th>\n",
       "      <th>Identificador</th>\n",
       "      <th>Fecha</th>\n",
       "      <th>numero</th>\n",
       "      <th>tipo</th>\n",
       "      <th>arreglo</th>\n",
       "    </tr>\n",
       "  </thead>\n",
       "  <tbody>\n",
       "    <tr>\n",
       "      <th>2</th>\n",
       "      <td>1</td>\n",
       "      <td>2023-03-29</td>\n",
       "      <td>1</td>\n",
       "      <td>Metalico</td>\n",
       "      <td>7</td>\n",
       "    </tr>\n",
       "    <tr>\n",
       "      <th>4</th>\n",
       "      <td>2</td>\n",
       "      <td>2023-03-29</td>\n",
       "      <td>1</td>\n",
       "      <td>Metalico</td>\n",
       "      <td>7</td>\n",
       "    </tr>\n",
       "    <tr>\n",
       "      <th>6</th>\n",
       "      <td>3</td>\n",
       "      <td>2023-03-29</td>\n",
       "      <td>1</td>\n",
       "      <td>Metalico</td>\n",
       "      <td>7</td>\n",
       "    </tr>\n",
       "    <tr>\n",
       "      <th>8</th>\n",
       "      <td>4</td>\n",
       "      <td>2023-03-29</td>\n",
       "      <td>1</td>\n",
       "      <td>Metalico</td>\n",
       "      <td>7</td>\n",
       "    </tr>\n",
       "    <tr>\n",
       "      <th>10</th>\n",
       "      <td>5</td>\n",
       "      <td>2023-03-29</td>\n",
       "      <td>1</td>\n",
       "      <td>Metalico</td>\n",
       "      <td>7</td>\n",
       "    </tr>\n",
       "  </tbody>\n",
       "</table>\n",
       "</div>"
      ],
      "text/plain": [
       "    Identificador      Fecha  numero      tipo  arreglo\n",
       "2               1 2023-03-29       1  Metalico        7\n",
       "4               2 2023-03-29       1  Metalico        7\n",
       "6               3 2023-03-29       1  Metalico        7\n",
       "8               4 2023-03-29       1  Metalico        7\n",
       "10              5 2023-03-29       1  Metalico        7"
      ]
     },
     "execution_count": 26,
     "metadata": {},
     "output_type": "execute_result"
    }
   ],
   "source": [
    "dfb = pd.DataFrame(\n",
    "    {\n",
    "        \"Identificador\": [1,2,3,4,5],\n",
    "        \"Fecha\": pd.Timestamp(\"20230329\"),\n",
    "        \"numero\": pd.Series(1, index=list(range(2,11,2))),\n",
    "        \"tipo\": \"Metalico\",\n",
    "        \"arreglo\": np.array([7]*5, dtype=np.int16)\n",
    "    }\n",
    ")\n",
    "dfb"
   ]
  },
  {
   "cell_type": "code",
   "execution_count": 28,
   "id": "2d26d5e6-1164-4c42-b798-a910e31187a0",
   "metadata": {
    "tags": []
   },
   "outputs": [
    {
     "data": {
      "text/plain": [
       "Identificador             int64\n",
       "Fecha            datetime64[ns]\n",
       "numero                    int64\n",
       "tipo                     object\n",
       "arreglo                   int16\n",
       "dtype: object"
      ]
     },
     "execution_count": 28,
     "metadata": {},
     "output_type": "execute_result"
    }
   ],
   "source": [
    "dfb.dtypes"
   ]
  },
  {
   "cell_type": "code",
   "execution_count": 29,
   "id": "369ded08-2f77-4277-b4b6-bba1380603ea",
   "metadata": {
    "tags": []
   },
   "outputs": [
    {
     "data": {
      "text/plain": [
       "2     1\n",
       "4     2\n",
       "6     3\n",
       "8     4\n",
       "10    5\n",
       "Name: Identificador, dtype: int64"
      ]
     },
     "execution_count": 29,
     "metadata": {},
     "output_type": "execute_result"
    }
   ],
   "source": [
    "dfb[\"Identificador\"]"
   ]
  },
  {
   "cell_type": "code",
   "execution_count": 30,
   "id": "0ec7e9ac-efb5-4750-a777-1cf04701034f",
   "metadata": {
    "tags": []
   },
   "outputs": [
    {
     "data": {
      "text/plain": [
       "2     1\n",
       "4     2\n",
       "6     3\n",
       "8     4\n",
       "10    5\n",
       "Name: Identificador, dtype: int64"
      ]
     },
     "execution_count": 30,
     "metadata": {},
     "output_type": "execute_result"
    }
   ],
   "source": [
    "dfb.Identificador"
   ]
  },
  {
   "cell_type": "code",
   "execution_count": 31,
   "id": "d895cb05-bed0-4536-a851-9d616299e4be",
   "metadata": {
    "tags": []
   },
   "outputs": [
    {
     "data": {
      "text/plain": [
       "2     Metalico\n",
       "4     Metalico\n",
       "6     Metalico\n",
       "8     Metalico\n",
       "10    Metalico\n",
       "Name: tipo, dtype: object"
      ]
     },
     "execution_count": 31,
     "metadata": {},
     "output_type": "execute_result"
    }
   ],
   "source": [
    "dfb.tipo"
   ]
  },
  {
   "cell_type": "code",
   "execution_count": 32,
   "id": "d8289e92-4010-4aa1-bb53-28c5a213f54a",
   "metadata": {
    "tags": []
   },
   "outputs": [
    {
     "data": {
      "text/plain": [
       "2     Metalico\n",
       "4     Metalico\n",
       "6     Metalico\n",
       "8     Metalico\n",
       "10    Metalico\n",
       "Name: tipo, dtype: object"
      ]
     },
     "execution_count": 32,
     "metadata": {},
     "output_type": "execute_result"
    }
   ],
   "source": [
    "dfb[\"tipo\"]"
   ]
  },
  {
   "cell_type": "code",
   "execution_count": 33,
   "id": "4649b4de-8230-4116-89d8-307b5befc747",
   "metadata": {
    "tags": []
   },
   "outputs": [
    {
     "data": {
      "text/html": [
       "<div>\n",
       "<style scoped>\n",
       "    .dataframe tbody tr th:only-of-type {\n",
       "        vertical-align: middle;\n",
       "    }\n",
       "\n",
       "    .dataframe tbody tr th {\n",
       "        vertical-align: top;\n",
       "    }\n",
       "\n",
       "    .dataframe thead th {\n",
       "        text-align: right;\n",
       "    }\n",
       "</style>\n",
       "<table border=\"1\" class=\"dataframe\">\n",
       "  <thead>\n",
       "    <tr style=\"text-align: right;\">\n",
       "      <th></th>\n",
       "      <th>Id</th>\n",
       "      <th>nombre</th>\n",
       "      <th>edad</th>\n",
       "      <th>Genero</th>\n",
       "    </tr>\n",
       "  </thead>\n",
       "  <tbody>\n",
       "    <tr>\n",
       "      <th>2023-03-27</th>\n",
       "      <td>1.018856</td>\n",
       "      <td>-1.239713</td>\n",
       "      <td>-1.510233</td>\n",
       "      <td>-0.263763</td>\n",
       "    </tr>\n",
       "    <tr>\n",
       "      <th>2023-03-28</th>\n",
       "      <td>0.579962</td>\n",
       "      <td>-0.522429</td>\n",
       "      <td>-1.588943</td>\n",
       "      <td>0.476958</td>\n",
       "    </tr>\n",
       "    <tr>\n",
       "      <th>2023-03-29</th>\n",
       "      <td>0.171220</td>\n",
       "      <td>0.496389</td>\n",
       "      <td>0.370789</td>\n",
       "      <td>-0.765628</td>\n",
       "    </tr>\n",
       "    <tr>\n",
       "      <th>2023-03-30</th>\n",
       "      <td>-0.692943</td>\n",
       "      <td>-1.012229</td>\n",
       "      <td>0.753144</td>\n",
       "      <td>-0.868071</td>\n",
       "    </tr>\n",
       "    <tr>\n",
       "      <th>2023-03-31</th>\n",
       "      <td>-0.815133</td>\n",
       "      <td>0.646978</td>\n",
       "      <td>-0.317680</td>\n",
       "      <td>1.192492</td>\n",
       "    </tr>\n",
       "    <tr>\n",
       "      <th>2023-04-01</th>\n",
       "      <td>-1.057710</td>\n",
       "      <td>0.521831</td>\n",
       "      <td>0.501046</td>\n",
       "      <td>-0.995956</td>\n",
       "    </tr>\n",
       "    <tr>\n",
       "      <th>2023-04-02</th>\n",
       "      <td>0.774117</td>\n",
       "      <td>0.216942</td>\n",
       "      <td>-1.178151</td>\n",
       "      <td>-0.480302</td>\n",
       "    </tr>\n",
       "  </tbody>\n",
       "</table>\n",
       "</div>"
      ],
      "text/plain": [
       "                  Id    nombre      edad    Genero\n",
       "2023-03-27  1.018856 -1.239713 -1.510233 -0.263763\n",
       "2023-03-28  0.579962 -0.522429 -1.588943  0.476958\n",
       "2023-03-29  0.171220  0.496389  0.370789 -0.765628\n",
       "2023-03-30 -0.692943 -1.012229  0.753144 -0.868071\n",
       "2023-03-31 -0.815133  0.646978 -0.317680  1.192492\n",
       "2023-04-01 -1.057710  0.521831  0.501046 -0.995956\n",
       "2023-04-02  0.774117  0.216942 -1.178151 -0.480302"
      ]
     },
     "execution_count": 33,
     "metadata": {},
     "output_type": "execute_result"
    }
   ],
   "source": [
    "df1"
   ]
  },
  {
   "cell_type": "code",
   "execution_count": 34,
   "id": "a94ab574-1353-46ad-b817-05b7b7a7cc30",
   "metadata": {
    "tags": []
   },
   "outputs": [
    {
     "data": {
      "text/plain": [
       "DatetimeIndex(['2023-03-27', '2023-03-28', '2023-03-29', '2023-03-30',\n",
       "               '2023-03-31', '2023-04-01', '2023-04-02'],\n",
       "              dtype='datetime64[ns]', freq='D')"
      ]
     },
     "execution_count": 34,
     "metadata": {},
     "output_type": "execute_result"
    }
   ],
   "source": [
    "df1.index"
   ]
  },
  {
   "cell_type": "code",
   "execution_count": 36,
   "id": "3d68477c-5a83-4cab-86b0-f891b44b8e8d",
   "metadata": {
    "tags": []
   },
   "outputs": [
    {
     "data": {
      "text/plain": [
       "Index(['Id', 'nombre', 'edad', 'Genero'], dtype='object')"
      ]
     },
     "execution_count": 36,
     "metadata": {},
     "output_type": "execute_result"
    }
   ],
   "source": [
    "df1.columns"
   ]
  },
  {
   "cell_type": "code",
   "execution_count": 40,
   "id": "fef2ffc2-d1f0-4964-b243-218382aba2d6",
   "metadata": {
    "tags": []
   },
   "outputs": [
    {
     "data": {
      "text/html": [
       "<div>\n",
       "<style scoped>\n",
       "    .dataframe tbody tr th:only-of-type {\n",
       "        vertical-align: middle;\n",
       "    }\n",
       "\n",
       "    .dataframe tbody tr th {\n",
       "        vertical-align: top;\n",
       "    }\n",
       "\n",
       "    .dataframe thead th {\n",
       "        text-align: right;\n",
       "    }\n",
       "</style>\n",
       "<table border=\"1\" class=\"dataframe\">\n",
       "  <thead>\n",
       "    <tr style=\"text-align: right;\">\n",
       "      <th></th>\n",
       "      <th>Id</th>\n",
       "      <th>nombre</th>\n",
       "      <th>edad</th>\n",
       "      <th>Genero</th>\n",
       "    </tr>\n",
       "  </thead>\n",
       "  <tbody>\n",
       "    <tr>\n",
       "      <th>2023-03-28</th>\n",
       "      <td>0.579962</td>\n",
       "      <td>-0.522429</td>\n",
       "      <td>-1.588943</td>\n",
       "      <td>0.476958</td>\n",
       "    </tr>\n",
       "    <tr>\n",
       "      <th>2023-03-29</th>\n",
       "      <td>0.171220</td>\n",
       "      <td>0.496389</td>\n",
       "      <td>0.370789</td>\n",
       "      <td>-0.765628</td>\n",
       "    </tr>\n",
       "    <tr>\n",
       "      <th>2023-03-30</th>\n",
       "      <td>-0.692943</td>\n",
       "      <td>-1.012229</td>\n",
       "      <td>0.753144</td>\n",
       "      <td>-0.868071</td>\n",
       "    </tr>\n",
       "  </tbody>\n",
       "</table>\n",
       "</div>"
      ],
      "text/plain": [
       "                  Id    nombre      edad    Genero\n",
       "2023-03-28  0.579962 -0.522429 -1.588943  0.476958\n",
       "2023-03-29  0.171220  0.496389  0.370789 -0.765628\n",
       "2023-03-30 -0.692943 -1.012229  0.753144 -0.868071"
      ]
     },
     "execution_count": 40,
     "metadata": {},
     "output_type": "execute_result"
    }
   ],
   "source": [
    "df1[1:4]"
   ]
  },
  {
   "cell_type": "code",
   "execution_count": 39,
   "id": "f8ac41bf-fdc7-4f91-9e2e-8cb6f967770a",
   "metadata": {
    "tags": []
   },
   "outputs": [
    {
     "data": {
      "text/plain": [
       "2023-03-27   -1.239713\n",
       "2023-03-28   -0.522429\n",
       "2023-03-29    0.496389\n",
       "2023-03-30   -1.012229\n",
       "2023-03-31    0.646978\n",
       "2023-04-01    0.521831\n",
       "2023-04-02    0.216942\n",
       "Freq: D, Name: nombre, dtype: float64"
      ]
     },
     "execution_count": 39,
     "metadata": {},
     "output_type": "execute_result"
    }
   ],
   "source": [
    "df1[\"nombre\"]"
   ]
  },
  {
   "cell_type": "code",
   "execution_count": 49,
   "id": "3ae1d8ef-af12-4ce2-903f-e55d1d0f6919",
   "metadata": {
    "tags": []
   },
   "outputs": [
    {
     "data": {
      "text/html": [
       "<div>\n",
       "<style scoped>\n",
       "    .dataframe tbody tr th:only-of-type {\n",
       "        vertical-align: middle;\n",
       "    }\n",
       "\n",
       "    .dataframe tbody tr th {\n",
       "        vertical-align: top;\n",
       "    }\n",
       "\n",
       "    .dataframe thead th {\n",
       "        text-align: right;\n",
       "    }\n",
       "</style>\n",
       "<table border=\"1\" class=\"dataframe\">\n",
       "  <thead>\n",
       "    <tr style=\"text-align: right;\">\n",
       "      <th></th>\n",
       "      <th>Id</th>\n",
       "      <th>nombre</th>\n",
       "      <th>edad</th>\n",
       "      <th>Genero</th>\n",
       "    </tr>\n",
       "  </thead>\n",
       "  <tbody>\n",
       "    <tr>\n",
       "      <th>2023-03-28</th>\n",
       "      <td>0.579962</td>\n",
       "      <td>-0.522429</td>\n",
       "      <td>-1.588943</td>\n",
       "      <td>0.476958</td>\n",
       "    </tr>\n",
       "    <tr>\n",
       "      <th>2023-03-29</th>\n",
       "      <td>0.171220</td>\n",
       "      <td>0.496389</td>\n",
       "      <td>0.370789</td>\n",
       "      <td>-0.765628</td>\n",
       "    </tr>\n",
       "    <tr>\n",
       "      <th>2023-03-30</th>\n",
       "      <td>-0.692943</td>\n",
       "      <td>-1.012229</td>\n",
       "      <td>0.753144</td>\n",
       "      <td>-0.868071</td>\n",
       "    </tr>\n",
       "  </tbody>\n",
       "</table>\n",
       "</div>"
      ],
      "text/plain": [
       "                  Id    nombre      edad    Genero\n",
       "2023-03-28  0.579962 -0.522429 -1.588943  0.476958\n",
       "2023-03-29  0.171220  0.496389  0.370789 -0.765628\n",
       "2023-03-30 -0.692943 -1.012229  0.753144 -0.868071"
      ]
     },
     "execution_count": 49,
     "metadata": {},
     "output_type": "execute_result"
    }
   ],
   "source": [
    "df1.loc[fechas[1:4]]"
   ]
  },
  {
   "cell_type": "code",
   "execution_count": 48,
   "id": "8fe54980-b26b-4d20-a13a-67a0bfdf8957",
   "metadata": {
    "tags": []
   },
   "outputs": [
    {
     "data": {
      "text/plain": [
       "DatetimeIndex(['2023-03-27', '2023-03-28', '2023-03-29', '2023-03-30',\n",
       "               '2023-03-31', '2023-04-01', '2023-04-02'],\n",
       "              dtype='datetime64[ns]', freq='D')"
      ]
     },
     "execution_count": 48,
     "metadata": {},
     "output_type": "execute_result"
    }
   ],
   "source": [
    "fechas"
   ]
  },
  {
   "cell_type": "code",
   "execution_count": 51,
   "id": "0c804594-c324-4980-b7e0-fd73d5ed9833",
   "metadata": {
    "tags": []
   },
   "outputs": [
    {
     "data": {
      "text/html": [
       "<div>\n",
       "<style scoped>\n",
       "    .dataframe tbody tr th:only-of-type {\n",
       "        vertical-align: middle;\n",
       "    }\n",
       "\n",
       "    .dataframe tbody tr th {\n",
       "        vertical-align: top;\n",
       "    }\n",
       "\n",
       "    .dataframe thead th {\n",
       "        text-align: right;\n",
       "    }\n",
       "</style>\n",
       "<table border=\"1\" class=\"dataframe\">\n",
       "  <thead>\n",
       "    <tr style=\"text-align: right;\">\n",
       "      <th></th>\n",
       "      <th>Id</th>\n",
       "      <th>nombre</th>\n",
       "      <th>edad</th>\n",
       "      <th>Genero</th>\n",
       "    </tr>\n",
       "  </thead>\n",
       "  <tbody>\n",
       "    <tr>\n",
       "      <th>2023-03-27</th>\n",
       "      <td>1.018856</td>\n",
       "      <td>-1.239713</td>\n",
       "      <td>-1.510233</td>\n",
       "      <td>-0.263763</td>\n",
       "    </tr>\n",
       "    <tr>\n",
       "      <th>2023-03-28</th>\n",
       "      <td>0.579962</td>\n",
       "      <td>-0.522429</td>\n",
       "      <td>-1.588943</td>\n",
       "      <td>0.476958</td>\n",
       "    </tr>\n",
       "    <tr>\n",
       "      <th>2023-03-29</th>\n",
       "      <td>0.171220</td>\n",
       "      <td>0.496389</td>\n",
       "      <td>0.370789</td>\n",
       "      <td>-0.765628</td>\n",
       "    </tr>\n",
       "    <tr>\n",
       "      <th>2023-03-30</th>\n",
       "      <td>-0.692943</td>\n",
       "      <td>-1.012229</td>\n",
       "      <td>0.753144</td>\n",
       "      <td>-0.868071</td>\n",
       "    </tr>\n",
       "    <tr>\n",
       "      <th>2023-03-31</th>\n",
       "      <td>-0.815133</td>\n",
       "      <td>0.646978</td>\n",
       "      <td>-0.317680</td>\n",
       "      <td>1.192492</td>\n",
       "    </tr>\n",
       "    <tr>\n",
       "      <th>2023-04-01</th>\n",
       "      <td>-1.057710</td>\n",
       "      <td>0.521831</td>\n",
       "      <td>0.501046</td>\n",
       "      <td>-0.995956</td>\n",
       "    </tr>\n",
       "    <tr>\n",
       "      <th>2023-04-02</th>\n",
       "      <td>0.774117</td>\n",
       "      <td>0.216942</td>\n",
       "      <td>-1.178151</td>\n",
       "      <td>-0.480302</td>\n",
       "    </tr>\n",
       "  </tbody>\n",
       "</table>\n",
       "</div>"
      ],
      "text/plain": [
       "                  Id    nombre      edad    Genero\n",
       "2023-03-27  1.018856 -1.239713 -1.510233 -0.263763\n",
       "2023-03-28  0.579962 -0.522429 -1.588943  0.476958\n",
       "2023-03-29  0.171220  0.496389  0.370789 -0.765628\n",
       "2023-03-30 -0.692943 -1.012229  0.753144 -0.868071\n",
       "2023-03-31 -0.815133  0.646978 -0.317680  1.192492\n",
       "2023-04-01 -1.057710  0.521831  0.501046 -0.995956\n",
       "2023-04-02  0.774117  0.216942 -1.178151 -0.480302"
      ]
     },
     "execution_count": 51,
     "metadata": {},
     "output_type": "execute_result"
    }
   ],
   "source": [
    "df1"
   ]
  },
  {
   "cell_type": "code",
   "execution_count": 52,
   "id": "4d4ddf92-97c2-44b4-828e-59441779a8f5",
   "metadata": {
    "tags": []
   },
   "outputs": [
    {
     "data": {
      "text/html": [
       "<div>\n",
       "<style scoped>\n",
       "    .dataframe tbody tr th:only-of-type {\n",
       "        vertical-align: middle;\n",
       "    }\n",
       "\n",
       "    .dataframe tbody tr th {\n",
       "        vertical-align: top;\n",
       "    }\n",
       "\n",
       "    .dataframe thead th {\n",
       "        text-align: right;\n",
       "    }\n",
       "</style>\n",
       "<table border=\"1\" class=\"dataframe\">\n",
       "  <thead>\n",
       "    <tr style=\"text-align: right;\">\n",
       "      <th></th>\n",
       "      <th>Id</th>\n",
       "      <th>nombre</th>\n",
       "      <th>edad</th>\n",
       "      <th>Genero</th>\n",
       "    </tr>\n",
       "  </thead>\n",
       "  <tbody>\n",
       "    <tr>\n",
       "      <th>count</th>\n",
       "      <td>7.000000</td>\n",
       "      <td>7.000000</td>\n",
       "      <td>7.000000</td>\n",
       "      <td>7.000000</td>\n",
       "    </tr>\n",
       "    <tr>\n",
       "      <th>mean</th>\n",
       "      <td>-0.003090</td>\n",
       "      <td>-0.127462</td>\n",
       "      <td>-0.424290</td>\n",
       "      <td>-0.243467</td>\n",
       "    </tr>\n",
       "    <tr>\n",
       "      <th>std</th>\n",
       "      <td>0.843237</td>\n",
       "      <td>0.785818</td>\n",
       "      <td>0.999176</td>\n",
       "      <td>0.802757</td>\n",
       "    </tr>\n",
       "    <tr>\n",
       "      <th>min</th>\n",
       "      <td>-1.057710</td>\n",
       "      <td>-1.239713</td>\n",
       "      <td>-1.588943</td>\n",
       "      <td>-0.995956</td>\n",
       "    </tr>\n",
       "    <tr>\n",
       "      <th>25%</th>\n",
       "      <td>-0.754038</td>\n",
       "      <td>-0.767329</td>\n",
       "      <td>-1.344192</td>\n",
       "      <td>-0.816849</td>\n",
       "    </tr>\n",
       "    <tr>\n",
       "      <th>50%</th>\n",
       "      <td>0.171220</td>\n",
       "      <td>0.216942</td>\n",
       "      <td>-0.317680</td>\n",
       "      <td>-0.480302</td>\n",
       "    </tr>\n",
       "    <tr>\n",
       "      <th>75%</th>\n",
       "      <td>0.677040</td>\n",
       "      <td>0.509110</td>\n",
       "      <td>0.435918</td>\n",
       "      <td>0.106598</td>\n",
       "    </tr>\n",
       "    <tr>\n",
       "      <th>max</th>\n",
       "      <td>1.018856</td>\n",
       "      <td>0.646978</td>\n",
       "      <td>0.753144</td>\n",
       "      <td>1.192492</td>\n",
       "    </tr>\n",
       "  </tbody>\n",
       "</table>\n",
       "</div>"
      ],
      "text/plain": [
       "             Id    nombre      edad    Genero\n",
       "count  7.000000  7.000000  7.000000  7.000000\n",
       "mean  -0.003090 -0.127462 -0.424290 -0.243467\n",
       "std    0.843237  0.785818  0.999176  0.802757\n",
       "min   -1.057710 -1.239713 -1.588943 -0.995956\n",
       "25%   -0.754038 -0.767329 -1.344192 -0.816849\n",
       "50%    0.171220  0.216942 -0.317680 -0.480302\n",
       "75%    0.677040  0.509110  0.435918  0.106598\n",
       "max    1.018856  0.646978  0.753144  1.192492"
      ]
     },
     "execution_count": 52,
     "metadata": {},
     "output_type": "execute_result"
    }
   ],
   "source": [
    "df1.describe()"
   ]
  },
  {
   "cell_type": "code",
   "execution_count": null,
   "id": "8195ff08-aab6-44b1-9ebf-4218d73c1b7d",
   "metadata": {},
   "outputs": [],
   "source": []
  }
 ],
 "metadata": {
  "kernelspec": {
   "display_name": "Python 3 (ipykernel)",
   "language": "python",
   "name": "python3"
  },
  "language_info": {
   "codemirror_mode": {
    "name": "ipython",
    "version": 3
   },
   "file_extension": ".py",
   "mimetype": "text/x-python",
   "name": "python",
   "nbconvert_exporter": "python",
   "pygments_lexer": "ipython3",
   "version": "3.10.4"
  }
 },
 "nbformat": 4,
 "nbformat_minor": 5
}
