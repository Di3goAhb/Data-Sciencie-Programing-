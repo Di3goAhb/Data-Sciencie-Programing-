{
 "cells": [
  {
   "cell_type": "markdown",
   "id": "0b330b86-51bf-44fc-8909-a05a2414eaab",
   "metadata": {},
   "source": [
    "# Manipulacion de datos con Python 3"
   ]
  },
  {
   "cell_type": "code",
   "execution_count": 1,
   "id": "37af0f2a-7a60-4cda-adf1-e137244f91c0",
   "metadata": {
    "tags": []
   },
   "outputs": [],
   "source": [
    "import numpy as np"
   ]
  },
  {
   "cell_type": "code",
   "execution_count": 4,
   "id": "11c0376d-161f-4fb1-8e3d-35c2c0497da2",
   "metadata": {
    "tags": []
   },
   "outputs": [
    {
     "ename": "TypeError",
     "evalue": "array() takes from 1 to 2 positional arguments but 3 were given",
     "output_type": "error",
     "traceback": [
      "\u001b[1;31m---------------------------------------------------------------------------\u001b[0m",
      "\u001b[1;31mTypeError\u001b[0m                                 Traceback (most recent call last)",
      "Cell \u001b[1;32mIn[4], line 2\u001b[0m\n\u001b[0;32m      1\u001b[0m \u001b[38;5;28;01mimport\u001b[39;00m \u001b[38;5;21;01mnumpy\u001b[39;00m \u001b[38;5;28;01mas\u001b[39;00m \u001b[38;5;21;01mnp\u001b[39;00m\n\u001b[1;32m----> 2\u001b[0m arreglo \u001b[38;5;241m=\u001b[39m \u001b[43mnp\u001b[49m\u001b[38;5;241;43m.\u001b[39;49m\u001b[43marray\u001b[49m\u001b[43m(\u001b[49m\u001b[38;5;241;43m0\u001b[39;49m\u001b[43m,\u001b[49m\u001b[43m \u001b[49m\u001b[38;5;241;43m24\u001b[39;49m\u001b[43m,\u001b[49m\u001b[43m \u001b[49m\u001b[43m(\u001b[49m\u001b[38;5;241;43m5\u001b[39;49m\u001b[43m,\u001b[49m\u001b[38;5;241;43m5\u001b[39;49m\u001b[43m)\u001b[49m\u001b[43m)\u001b[49m\n\u001b[0;32m      3\u001b[0m arreglo\n",
      "\u001b[1;31mTypeError\u001b[0m: array() takes from 1 to 2 positional arguments but 3 were given"
     ]
    }
   ],
   "source": [
    "import numpy as np\n",
    "arreglo = np.array(0, 24, (5,5))\n",
    "arreglo"
   ]
  },
  {
   "cell_type": "code",
   "execution_count": 9,
   "id": "10c29eb5-b69c-44dd-9ee3-89cb2196fe94",
   "metadata": {
    "tags": []
   },
   "outputs": [
    {
     "data": {
      "text/plain": [
       "array([[ 0.,  1.,  2.,  3.,  4.],\n",
       "       [ 5.,  6.,  7.,  8.,  9.],\n",
       "       [10., 11., 12., 13., 14.],\n",
       "       [15., 16., 17., 18., 19.],\n",
       "       [20., 21., 22., 23., 24.]])"
      ]
     },
     "execution_count": 9,
     "metadata": {},
     "output_type": "execute_result"
    }
   ],
   "source": [
    "matriz = np.reshape(arreglo, (5,5))\n",
    "matriz"
   ]
  },
  {
   "cell_type": "code",
   "execution_count": 10,
   "id": "0734458c-c5ba-4865-bd45-6da2a25ede77",
   "metadata": {
    "tags": []
   },
   "outputs": [],
   "source": [
    "arreglo[7]=1000"
   ]
  },
  {
   "cell_type": "code",
   "execution_count": 11,
   "id": "613d2efa-e80f-4e57-b2a1-10890b737adf",
   "metadata": {
    "tags": []
   },
   "outputs": [
    {
     "data": {
      "text/plain": [
       "array([   0.,    1.,    2.,    3.,    4.,    5.,    6., 1000.,    8.,\n",
       "          9.,   10.,   11.,   12.,   13.,   14.,   15.,   16.,   17.,\n",
       "         18.,   19.,   20.,   21.,   22.,   23.,   24.])"
      ]
     },
     "execution_count": 11,
     "metadata": {},
     "output_type": "execute_result"
    }
   ],
   "source": [
    "arreglo"
   ]
  },
  {
   "cell_type": "code",
   "execution_count": 12,
   "id": "aa8bb605-f463-4fb3-a524-bf01e9f449b2",
   "metadata": {
    "tags": []
   },
   "outputs": [
    {
     "data": {
      "text/plain": [
       "array([[   0.,    1.,    2.,    3.,    4.],\n",
       "       [   5.,    6., 1000.,    8.,    9.],\n",
       "       [  10.,   11.,   12.,   13.,   14.],\n",
       "       [  15.,   16.,   17.,   18.,   19.],\n",
       "       [  20.,   21.,   22.,   23.,   24.]])"
      ]
     },
     "execution_count": 12,
     "metadata": {},
     "output_type": "execute_result"
    }
   ],
   "source": [
    "matriz"
   ]
  },
  {
   "cell_type": "code",
   "execution_count": 13,
   "id": "9024a184-badb-4c44-9483-1e08421a0ecb",
   "metadata": {
    "tags": []
   },
   "outputs": [
    {
     "data": {
      "text/plain": [
       "array([[11., 12.],\n",
       "       [16., 17.]])"
      ]
     },
     "execution_count": 13,
     "metadata": {},
     "output_type": "execute_result"
    }
   ],
   "source": [
    "m1 = matriz[2:4, 1:3]\n",
    "m1"
   ]
  },
  {
   "cell_type": "code",
   "execution_count": 14,
   "id": "f99b3743-2bc3-410e-b658-63764717d353",
   "metadata": {
    "tags": []
   },
   "outputs": [
    {
     "data": {
      "text/plain": [
       "array([[5000.,   12.],\n",
       "       [  16.,   17.]])"
      ]
     },
     "execution_count": 14,
     "metadata": {},
     "output_type": "execute_result"
    }
   ],
   "source": [
    "m1[0,0] = 5000\n",
    "m1"
   ]
  },
  {
   "cell_type": "code",
   "execution_count": 15,
   "id": "61041715-fcd1-473c-bcca-090278a06a57",
   "metadata": {
    "tags": []
   },
   "outputs": [
    {
     "data": {
      "text/plain": [
       "array([[0.0e+00, 1.0e+00, 2.0e+00, 3.0e+00, 4.0e+00],\n",
       "       [5.0e+00, 6.0e+00, 1.0e+03, 8.0e+00, 9.0e+00],\n",
       "       [1.0e+01, 5.0e+03, 1.2e+01, 1.3e+01, 1.4e+01],\n",
       "       [1.5e+01, 1.6e+01, 1.7e+01, 1.8e+01, 1.9e+01],\n",
       "       [2.0e+01, 2.1e+01, 2.2e+01, 2.3e+01, 2.4e+01]])"
      ]
     },
     "execution_count": 15,
     "metadata": {},
     "output_type": "execute_result"
    }
   ],
   "source": [
    "matriz"
   ]
  },
  {
   "cell_type": "code",
   "execution_count": 16,
   "id": "faa82d74-41e4-451d-8d99-bfc38e5069ac",
   "metadata": {
    "tags": []
   },
   "outputs": [
    {
     "data": {
      "text/plain": [
       "array([[5000.,   12.],\n",
       "       [  16.,   17.]])"
      ]
     },
     "execution_count": 16,
     "metadata": {},
     "output_type": "execute_result"
    }
   ],
   "source": [
    "m2 = m1.copy()\n",
    "m2"
   ]
  },
  {
   "cell_type": "code",
   "execution_count": 17,
   "id": "5855e905-6a3e-4763-bcc3-204c9bc907d5",
   "metadata": {
    "tags": []
   },
   "outputs": [
    {
     "data": {
      "text/plain": [
       "array([[5000., 8000.],\n",
       "       [  16.,   17.]])"
      ]
     },
     "execution_count": 17,
     "metadata": {},
     "output_type": "execute_result"
    }
   ],
   "source": [
    "m2[0,1]= 8000\n",
    "m2"
   ]
  },
  {
   "cell_type": "code",
   "execution_count": 18,
   "id": "dddd39d5-ceab-436c-9084-ed865b40a0ca",
   "metadata": {
    "tags": []
   },
   "outputs": [
    {
     "data": {
      "text/plain": [
       "array([[0.0e+00, 1.0e+00, 2.0e+00, 3.0e+00, 4.0e+00],\n",
       "       [5.0e+00, 6.0e+00, 1.0e+03, 8.0e+00, 9.0e+00],\n",
       "       [1.0e+01, 5.0e+03, 1.2e+01, 1.3e+01, 1.4e+01],\n",
       "       [1.5e+01, 1.6e+01, 1.7e+01, 1.8e+01, 1.9e+01],\n",
       "       [2.0e+01, 2.1e+01, 2.2e+01, 2.3e+01, 2.4e+01]])"
      ]
     },
     "execution_count": 18,
     "metadata": {},
     "output_type": "execute_result"
    }
   ],
   "source": [
    "matriz"
   ]
  },
  {
   "cell_type": "code",
   "execution_count": 19,
   "id": "510b45ee-5446-4e51-8a72-5baeed807720",
   "metadata": {
    "tags": []
   },
   "outputs": [
    {
     "data": {
      "text/plain": [
       "[1, 2, 3, 4, 5, 6, 7, 8, 9, 10]"
      ]
     },
     "execution_count": 19,
     "metadata": {},
     "output_type": "execute_result"
    }
   ],
   "source": [
    "lista = [1,2,3,4,5,6,7,8,9,10]\n",
    "lista"
   ]
  },
  {
   "cell_type": "code",
   "execution_count": 20,
   "id": "4f61531e-017d-4a8e-8675-e0ad7da07247",
   "metadata": {
    "tags": []
   },
   "outputs": [
    {
     "data": {
      "text/plain": [
       "[4, 5, 6]"
      ]
     },
     "execution_count": 20,
     "metadata": {},
     "output_type": "execute_result"
    }
   ],
   "source": [
    "sl = lista[3:6]\n",
    "sl"
   ]
  },
  {
   "cell_type": "code",
   "execution_count": 21,
   "id": "b9947592-0f7b-4177-903f-3224857c4370",
   "metadata": {
    "tags": []
   },
   "outputs": [
    {
     "data": {
      "text/plain": [
       "[1000, 5, 6]"
      ]
     },
     "execution_count": 21,
     "metadata": {},
     "output_type": "execute_result"
    }
   ],
   "source": [
    "sl[0]= 1000\n",
    "sl"
   ]
  },
  {
   "cell_type": "code",
   "execution_count": 22,
   "id": "03d630eb-29d5-44d8-8b87-a040730940d1",
   "metadata": {
    "tags": []
   },
   "outputs": [
    {
     "data": {
      "text/plain": [
       "[1, 2, 3, 4, 5, 6, 7, 8, 9, 10]"
      ]
     },
     "execution_count": 22,
     "metadata": {},
     "output_type": "execute_result"
    }
   ],
   "source": [
    "lista"
   ]
  },
  {
   "cell_type": "code",
   "execution_count": null,
   "id": "06ba5a36-3db6-4afb-905c-53ad433a9014",
   "metadata": {},
   "outputs": [],
   "source": []
  }
 ],
 "metadata": {
  "kernelspec": {
   "display_name": "Python 3 (ipykernel)",
   "language": "python",
   "name": "python3"
  },
  "language_info": {
   "codemirror_mode": {
    "name": "ipython",
    "version": 3
   },
   "file_extension": ".py",
   "mimetype": "text/x-python",
   "name": "python",
   "nbconvert_exporter": "python",
   "pygments_lexer": "ipython3",
   "version": "3.10.4"
  }
 },
 "nbformat": 4,
 "nbformat_minor": 5
}
