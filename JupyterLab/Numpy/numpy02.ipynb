{
 "cells": [
  {
   "cell_type": "markdown",
   "id": "6b8bc2dc-91a6-40d1-a1f6-23de760c181f",
   "metadata": {},
   "source": [
    "# Numpy: Manipulacion de datos con python"
   ]
  },
  {
   "cell_type": "code",
   "execution_count": 5,
   "id": "321fa93c-c34c-47bb-a175-c73f3e901f13",
   "metadata": {
    "tags": []
   },
   "outputs": [],
   "source": [
    "import numpy as np"
   ]
  },
  {
   "cell_type": "code",
   "execution_count": 7,
   "id": "c20f8f60-3338-4f74-b0f3-ec6f075b9922",
   "metadata": {
    "tags": []
   },
   "outputs": [
    {
     "data": {
      "text/plain": [
       "array([[0, 1],\n",
       "       [2, 3],\n",
       "       [4, 5],\n",
       "       [6, 7],\n",
       "       [8, 9]])"
      ]
     },
     "execution_count": 7,
     "metadata": {},
     "output_type": "execute_result"
    }
   ],
   "source": [
    "arreglo = np.array([range(i, i+2) for i in range(0,10,2)])\n",
    "arreglo"
   ]
  },
  {
   "cell_type": "code",
   "execution_count": 9,
   "id": "4c1a268b-f1ba-49dc-bf98-ad193ec6eb80",
   "metadata": {
    "tags": []
   },
   "outputs": [
    {
     "data": {
      "text/plain": [
       "array([0.57601091, 0.05690646, 0.2817318 ])"
      ]
     },
     "execution_count": 9,
     "metadata": {},
     "output_type": "execute_result"
    }
   ],
   "source": [
    "aleatorio = np.random.random(3)\n",
    "aleatorio"
   ]
  },
  {
   "cell_type": "code",
   "execution_count": 12,
   "id": "8ea6c69b-8cff-4901-9393-a03b370ae7b1",
   "metadata": {
    "tags": []
   },
   "outputs": [
    {
     "data": {
      "text/plain": [
       "array([[0.38474202, 0.40299065, 0.29954303],\n",
       "       [0.30418631, 0.43649912, 0.32049147],\n",
       "       [0.49427237, 0.48650509, 0.0983333 ]])"
      ]
     },
     "execution_count": 12,
     "metadata": {},
     "output_type": "execute_result"
    }
   ],
   "source": [
    "matriz_aleatoria = np.random.random((3,3))\n",
    "matriz_aleatoria"
   ]
  },
  {
   "cell_type": "code",
   "execution_count": 14,
   "id": "64f8d17d-0050-463c-adb4-fee2892c3fa8",
   "metadata": {
    "tags": []
   },
   "outputs": [
    {
     "data": {
      "text/plain": [
       "array([10.1499988 , 10.58196642, 10.19113347,  8.96576634, 10.54061953,\n",
       "       11.35911667,  9.26179941, 12.87767493,  9.96266625, 10.69429976,\n",
       "       12.20548696,  8.12093141, 10.99418304,  8.92407864,  9.89833197,\n",
       "        8.63102875, 11.7855506 , 10.33068925,  9.84016247,  9.42061179,\n",
       "       13.04514826,  8.56050553, 14.54243214, 14.43870506,  9.90630031,\n",
       "        8.6698247 , 11.70826349, 12.90350117, 10.3900572 , 12.04045134,\n",
       "       10.4486653 , 12.11217525,  9.27128228,  9.17502208, 11.08824144,\n",
       "       10.35535367, 10.33512214, 12.87407193,  7.10729278,  5.90371142,\n",
       "        8.92378217, 10.21075606, 11.70859576, 10.11369558, 13.89138577,\n",
       "        9.0850153 , 12.59627096, 14.13264675, 10.31349119,  9.99248898,\n",
       "        9.08336276, 10.73035058, 12.44074756, 10.02929016,  8.4953776 ,\n",
       "       11.14520624,  9.89682322, 12.07174397,  8.72401163,  9.59294601,\n",
       "        8.88176462, 10.37676528, 11.17944261,  9.71004426,  8.1050657 ,\n",
       "        8.8138241 ,  9.19557018, 11.89241193, 13.68885482,  8.73282501,\n",
       "        7.42932623,  9.11393249,  9.76986707, 13.56896164,  7.767402  ,\n",
       "        8.51592967, 10.21429548, 10.35685173, 10.68141632,  8.92563891,\n",
       "       12.0307664 ,  8.53537415,  5.91846911, 12.4733194 , 12.59222032,\n",
       "       11.59325611, 11.31117784,  8.11895277, 13.36725076,  6.30346591,\n",
       "       13.8799523 , 11.88096962, 11.06780669,  9.55569336, 11.83166003,\n",
       "       11.02376676,  8.49290112, 10.23361196, 10.63560346, 11.07479494])"
      ]
     },
     "execution_count": 14,
     "metadata": {},
     "output_type": "execute_result"
    }
   ],
   "source": [
    "arreglo_normal = np.random.normal(10, 2, 100)\n",
    "arreglo_normal"
   ]
  },
  {
   "cell_type": "code",
   "execution_count": 17,
   "id": "c825bfc6-7256-4a5e-bbb1-bd890e664ebb",
   "metadata": {
    "tags": []
   },
   "outputs": [
    {
     "data": {
      "text/plain": [
       "array([[[[4.63217701, 5.88592013, 3.20184145],\n",
       "         [2.82263653, 6.18055507, 3.99116252],\n",
       "         [5.06564985, 4.29987503, 4.31942136]],\n",
       "\n",
       "        [[2.91453107, 4.39212108, 5.10898951],\n",
       "         [3.14491847, 3.46872866, 3.61710536],\n",
       "         [3.44866066, 3.19441637, 4.13089855]],\n",
       "\n",
       "        [[4.22818874, 3.79792407, 3.4294466 ],\n",
       "         [3.69036504, 3.84019622, 2.7106051 ],\n",
       "         [4.58432247, 3.08136608, 2.78358352]]],\n",
       "\n",
       "\n",
       "       [[[4.84044093, 4.24104011, 5.78926855],\n",
       "         [5.51354838, 3.63955102, 6.00131341],\n",
       "         [5.01460137, 2.54958033, 4.54294103]],\n",
       "\n",
       "        [[3.16441561, 3.04393084, 4.73761636],\n",
       "         [5.18167833, 3.8808821 , 4.52601329],\n",
       "         [3.55986059, 4.14949738, 1.60047294]],\n",
       "\n",
       "        [[2.594627  , 3.94017239, 2.79958541],\n",
       "         [4.07827975, 3.98972519, 3.12162124],\n",
       "         [5.12269092, 4.6112994 , 4.2019917 ]]],\n",
       "\n",
       "\n",
       "       [[[2.94866547, 2.79747178, 3.46536067],\n",
       "         [5.11734978, 4.60065722, 3.32527549],\n",
       "         [1.15039871, 3.66582998, 5.3960036 ]],\n",
       "\n",
       "        [[3.24487284, 3.40224716, 6.41512857],\n",
       "         [4.37343282, 2.48851189, 5.05735457],\n",
       "         [3.83841287, 4.17388145, 4.58765114]],\n",
       "\n",
       "        [[5.85733678, 4.0862477 , 4.00292919],\n",
       "         [4.54232125, 4.54283778, 3.96673337],\n",
       "         [4.70699017, 2.99524857, 4.70593211]]]])"
      ]
     },
     "execution_count": 17,
     "metadata": {},
     "output_type": "execute_result"
    }
   ],
   "source": [
    "mn = np.random.normal(4, 1, (3,3,3,3))\n",
    "mn"
   ]
  },
  {
   "cell_type": "code",
   "execution_count": 21,
   "id": "b3772741-0885-48d3-959c-31baf3c20b21",
   "metadata": {
    "tags": []
   },
   "outputs": [
    {
     "data": {
      "text/plain": [
       "array([1, 3, 2, 5, 7])"
      ]
     },
     "execution_count": 21,
     "metadata": {},
     "output_type": "execute_result"
    }
   ],
   "source": [
    "enteros_aleatorios = np.random.randint(1,10, 5)\n",
    "enteros_aleatorios"
   ]
  },
  {
   "cell_type": "code",
   "execution_count": 22,
   "id": "3bfaa378-ff68-49f2-a70d-8d39a2a91c97",
   "metadata": {
    "tags": []
   },
   "outputs": [
    {
     "data": {
      "text/plain": [
       "array([[ 7, 53, 76, 76],\n",
       "       [87, 51,  1, 20],\n",
       "       [76, 78, 50, 61],\n",
       "       [41, 46, 50, 78]])"
      ]
     },
     "execution_count": 22,
     "metadata": {},
     "output_type": "execute_result"
    }
   ],
   "source": [
    "matriz_enteros_aleatorios = np.random.randint(0,100,(4,4))\n",
    "matriz_enteros_aleatorios"
   ]
  },
  {
   "cell_type": "code",
   "execution_count": 37,
   "id": "98f19b11-78e3-4f14-9ac2-3e40580287fd",
   "metadata": {
    "tags": []
   },
   "outputs": [],
   "source": [
    "big_array = np.random.randint(1,1000000, 10000000)\n"
   ]
  },
  {
   "cell_type": "code",
   "execution_count": 29,
   "id": "4eac93c6-907a-462a-9c7f-ad6b16ddaf17",
   "metadata": {
    "tags": []
   },
   "outputs": [],
   "source": [
    "def reciproco(arreglo):\n",
    "    resultado = []\n",
    "    for i in range(0, len(arreglo)):\n",
    "        resultado.append(1/arreglo[i])\n",
    "    return resultado\n"
   ]
  },
  {
   "cell_type": "code",
   "execution_count": 38,
   "id": "3a206ade-056f-47e0-ba33-4cd547915837",
   "metadata": {
    "tags": []
   },
   "outputs": [
    {
     "name": "stdout",
     "output_type": "stream",
     "text": [
      "1.56 s ± 17.8 ms per loop (mean ± std. dev. of 7 runs, 1 loop each)\n"
     ]
    }
   ],
   "source": [
    "%timeit reciproco(big_array)"
   ]
  },
  {
   "cell_type": "code",
   "execution_count": 43,
   "id": "da4cc281-c528-40bc-89e2-ba6d84294fae",
   "metadata": {
    "tags": []
   },
   "outputs": [
    {
     "data": {
      "text/plain": [
       "array([0.57601091, 0.05690646, 0.2817318 ])"
      ]
     },
     "execution_count": 43,
     "metadata": {},
     "output_type": "execute_result"
    }
   ],
   "source": [
    "aleatorio"
   ]
  },
  {
   "cell_type": "code",
   "execution_count": 40,
   "id": "b245a60e-01fe-4e21-bfb9-9f005f9d792b",
   "metadata": {
    "tags": []
   },
   "outputs": [
    {
     "data": {
      "text/plain": [
       "array([ 1.73607822, 17.57269856,  3.54947506])"
      ]
     },
     "execution_count": 40,
     "metadata": {},
     "output_type": "execute_result"
    }
   ],
   "source": [
    "1/aleatorio"
   ]
  },
  {
   "cell_type": "code",
   "execution_count": 41,
   "id": "2f196d6f-98c4-4d61-89a0-0497fa44e096",
   "metadata": {
    "tags": []
   },
   "outputs": [
    {
     "name": "stdout",
     "output_type": "stream",
     "text": [
      "16.4 ms ± 201 µs per loop (mean ± std. dev. of 7 runs, 100 loops each)\n"
     ]
    }
   ],
   "source": [
    "%timeit 1/big_array"
   ]
  },
  {
   "cell_type": "code",
   "execution_count": 42,
   "id": "d50133fd-c368-4ee4-abfe-f73c1a428d3a",
   "metadata": {
    "tags": []
   },
   "outputs": [
    {
     "data": {
      "text/plain": [
       "array([0.33178857, 0.00323834, 0.07937281])"
      ]
     },
     "execution_count": 42,
     "metadata": {},
     "output_type": "execute_result"
    }
   ],
   "source": [
    "aleatorio**2"
   ]
  },
  {
   "cell_type": "code",
   "execution_count": 44,
   "id": "b8bd1a57-e19d-4a1c-9079-203b449a42e5",
   "metadata": {
    "tags": []
   },
   "outputs": [
    {
     "data": {
      "text/plain": [
       "array([1.57601091, 1.05690646, 1.2817318 ])"
      ]
     },
     "execution_count": 44,
     "metadata": {},
     "output_type": "execute_result"
    }
   ],
   "source": [
    "aleatorio + 1"
   ]
  },
  {
   "cell_type": "code",
   "execution_count": 45,
   "id": "8e0968fe-7c04-4caa-91c2-cbe42d35d8f6",
   "metadata": {
    "tags": []
   },
   "outputs": [
    {
     "data": {
      "text/plain": [
       "array([0.57601091, 0.05690646, 0.2817318 ])"
      ]
     },
     "execution_count": 45,
     "metadata": {},
     "output_type": "execute_result"
    }
   ],
   "source": [
    "aleatorio"
   ]
  },
  {
   "cell_type": "code",
   "execution_count": 47,
   "id": "144d8de6-3f40-4702-9cc7-94014f0d51d2",
   "metadata": {
    "tags": []
   },
   "outputs": [
    {
     "ename": "ValueError",
     "evalue": "operands could not be broadcast together with shapes (3,) (2,) ",
     "output_type": "error",
     "traceback": [
      "\u001b[0;31m---------------------------------------------------------------------------\u001b[0m",
      "\u001b[0;31mValueError\u001b[0m                                Traceback (most recent call last)",
      "Cell \u001b[0;32mIn[47], line 1\u001b[0m\n\u001b[0;32m----> 1\u001b[0m \u001b[43maleatorio\u001b[49m\u001b[43m \u001b[49m\u001b[38;5;241;43m+\u001b[39;49m\u001b[43m[\u001b[49m\u001b[38;5;241;43m1\u001b[39;49m\u001b[43m,\u001b[49m\u001b[38;5;241;43m2\u001b[39;49m\u001b[43m]\u001b[49m\n",
      "\u001b[0;31mValueError\u001b[0m: operands could not be broadcast together with shapes (3,) (2,) "
     ]
    }
   ],
   "source": [
    "aleatorio +[1,2]"
   ]
  },
  {
   "cell_type": "code",
   "execution_count": 48,
   "id": "132861c6-d21c-4acb-97a5-b01ab2f6dd4b",
   "metadata": {
    "tags": []
   },
   "outputs": [
    {
     "data": {
      "text/plain": [
       "array([[1, 6, 5],\n",
       "       [2, 8, 4],\n",
       "       [6, 4, 3]])"
      ]
     },
     "execution_count": 48,
     "metadata": {},
     "output_type": "execute_result"
    }
   ],
   "source": [
    "m1 = np.random.randint(1,10, (3,3))\n",
    "m1"
   ]
  },
  {
   "cell_type": "code",
   "execution_count": 50,
   "id": "da88e157-2c29-4c3d-91c7-2c89d205f47f",
   "metadata": {
    "tags": []
   },
   "outputs": [
    {
     "data": {
      "text/plain": [
       "array([1, 1, 1], dtype=int16)"
      ]
     },
     "execution_count": 50,
     "metadata": {},
     "output_type": "execute_result"
    }
   ],
   "source": [
    "a1 = np.ones(3, dtype=np.int16)\n",
    "a1"
   ]
  },
  {
   "cell_type": "code",
   "execution_count": 51,
   "id": "f2443a33-e74a-4c6a-89f7-6c5d384fbf5b",
   "metadata": {
    "tags": []
   },
   "outputs": [
    {
     "data": {
      "text/plain": [
       "array([[2, 7, 6],\n",
       "       [3, 9, 5],\n",
       "       [7, 5, 4]])"
      ]
     },
     "execution_count": 51,
     "metadata": {},
     "output_type": "execute_result"
    }
   ],
   "source": [
    "m1+a1"
   ]
  },
  {
   "cell_type": "code",
   "execution_count": 52,
   "id": "ec0ca0ae-99d1-426c-b261-5bba4e49c160",
   "metadata": {
    "tags": []
   },
   "outputs": [
    {
     "data": {
      "text/plain": [
       "array([[ 8, 13, 12],\n",
       "       [ 9, 15, 11],\n",
       "       [13, 11, 10]])"
      ]
     },
     "execution_count": 52,
     "metadata": {},
     "output_type": "execute_result"
    }
   ],
   "source": [
    "m1 +7"
   ]
  },
  {
   "cell_type": "code",
   "execution_count": 60,
   "id": "e8c911ef-5de1-4271-b90b-b1753e5d5e9b",
   "metadata": {
    "tags": []
   },
   "outputs": [
    {
     "data": {
      "text/plain": [
       "array([[0.14813741, 0.62980952, 0.67428662, 0.87653619],\n",
       "       [0.26764047, 0.98229103, 0.05361805, 0.20281492],\n",
       "       [0.89180819, 0.7071974 , 0.44411699, 0.67163131]])"
      ]
     },
     "execution_count": 60,
     "metadata": {},
     "output_type": "execute_result"
    }
   ],
   "source": [
    "aleatorio = np.random.random((3,4))\n",
    "aleatorio"
   ]
  },
  {
   "cell_type": "code",
   "execution_count": 61,
   "id": "f34c7576-1cfa-465e-ace6-c71f3749d948",
   "metadata": {
    "tags": []
   },
   "outputs": [
    {
     "data": {
      "text/plain": [
       "array([[0.02194469, 0.39666003, 0.45466245, 0.76831569],\n",
       "       [0.07163142, 0.96489567, 0.0028749 , 0.04113389],\n",
       "       [0.79532186, 0.50012816, 0.1972399 , 0.45108861]])"
      ]
     },
     "execution_count": 61,
     "metadata": {},
     "output_type": "execute_result"
    }
   ],
   "source": [
    "aleatorio ** 2"
   ]
  },
  {
   "cell_type": "code",
   "execution_count": 62,
   "id": "a2e5850e-8c3c-47ab-8733-bdf40f46fd3f",
   "metadata": {
    "tags": []
   },
   "outputs": [
    {
     "data": {
      "text/plain": [
       "array([517643, 601953, 564888, ..., 954577, 731296,  11155])"
      ]
     },
     "execution_count": 62,
     "metadata": {},
     "output_type": "execute_result"
    }
   ],
   "source": [
    "big_array"
   ]
  },
  {
   "cell_type": "code",
   "execution_count": 64,
   "id": "83821542-842d-43fe-9f75-89f5e7c97c0d",
   "metadata": {
    "tags": []
   },
   "outputs": [
    {
     "name": "stdout",
     "output_type": "stream",
     "text": [
      "432 ms ± 9.94 ms per loop (mean ± std. dev. of 7 runs, 1 loop each)\n"
     ]
    }
   ],
   "source": [
    "%timeit sum(big_array)"
   ]
  },
  {
   "cell_type": "code",
   "execution_count": 65,
   "id": "a86eb52f-f2ab-4913-a8e2-43644855e0b5",
   "metadata": {
    "tags": []
   },
   "outputs": [
    {
     "name": "stdout",
     "output_type": "stream",
     "text": [
      "4.39 ms ± 28.3 µs per loop (mean ± std. dev. of 7 runs, 100 loops each)\n"
     ]
    }
   ],
   "source": [
    "%timeit np.sum(big_array)"
   ]
  },
  {
   "cell_type": "code",
   "execution_count": 67,
   "id": "e08e5be9-4aa9-4c95-95a2-7723fb34da17",
   "metadata": {
    "tags": []
   },
   "outputs": [
    {
     "name": "stdout",
     "output_type": "stream",
     "text": [
      "8.72 ms ± 110 µs per loop (mean ± std. dev. of 7 runs, 100 loops each)\n"
     ]
    }
   ],
   "source": [
    "%timeit np.prod(big_array)"
   ]
  },
  {
   "cell_type": "code",
   "execution_count": 68,
   "id": "7cb54c5c-0639-4393-a00d-24570d8d881d",
   "metadata": {
    "tags": []
   },
   "outputs": [
    {
     "data": {
      "text/plain": [
       "array([0.32839014, 0.56760698, 0.89897709, 0.46880156, 0.75495124,\n",
       "       0.93199361, 0.9426053 , 0.88741443, 0.5797806 , 0.5105221 ])"
      ]
     },
     "execution_count": 68,
     "metadata": {},
     "output_type": "execute_result"
    }
   ],
   "source": [
    "aleatorio2 = np.random.random(10)\n",
    "aleatorio2"
   ]
  },
  {
   "cell_type": "code",
   "execution_count": 69,
   "id": "0db64511-7412-4a46-941a-e593bbaf9b27",
   "metadata": {
    "tags": []
   },
   "outputs": [
    {
     "data": {
      "text/plain": [
       "0.3283901417441635"
      ]
     },
     "execution_count": 69,
     "metadata": {},
     "output_type": "execute_result"
    }
   ],
   "source": [
    "np.min(aleatorio2)"
   ]
  },
  {
   "cell_type": "code",
   "execution_count": 70,
   "id": "82a45301-d031-467e-8925-40031c3bcad1",
   "metadata": {
    "tags": []
   },
   "outputs": [
    {
     "data": {
      "text/plain": [
       "0.9426052969351895"
      ]
     },
     "execution_count": 70,
     "metadata": {},
     "output_type": "execute_result"
    }
   ],
   "source": [
    "np.max(aleatorio2)"
   ]
  },
  {
   "cell_type": "code",
   "execution_count": 71,
   "id": "25753d63-c9c1-4d80-b28e-2e0413925c15",
   "metadata": {
    "tags": []
   },
   "outputs": [
    {
     "data": {
      "text/plain": [
       "0.6871043040816983"
      ]
     },
     "execution_count": 71,
     "metadata": {},
     "output_type": "execute_result"
    }
   ],
   "source": [
    "np.mean(aleatorio2)"
   ]
  },
  {
   "cell_type": "code",
   "execution_count": 72,
   "id": "299ac049-6643-4714-88a1-cc44e843d1c9",
   "metadata": {
    "tags": []
   },
   "outputs": [
    {
     "data": {
      "text/plain": [
       "array([5, 8, 8, 1])"
      ]
     },
     "execution_count": 72,
     "metadata": {},
     "output_type": "execute_result"
    }
   ],
   "source": [
    "v1 = np.random.randint(1, 10, 4)\n",
    "v1"
   ]
  },
  {
   "cell_type": "code",
   "execution_count": 74,
   "id": "300f9a8c-4ee9-4ee3-8da9-92bf7a7199bf",
   "metadata": {
    "tags": []
   },
   "outputs": [
    {
     "data": {
      "text/plain": [
       "array([3, 7])"
      ]
     },
     "execution_count": 74,
     "metadata": {},
     "output_type": "execute_result"
    }
   ],
   "source": [
    "v2 = np.random.randint(1, 10, 2)\n",
    "v2"
   ]
  },
  {
   "cell_type": "code",
   "execution_count": 77,
   "id": "924784c8-5eb2-4ff4-ae1d-5cd6d09fc448",
   "metadata": {
    "tags": []
   },
   "outputs": [
    {
     "ename": "ValueError",
     "evalue": "operands could not be broadcast together with shapes (4,) (2,) ",
     "output_type": "error",
     "traceback": [
      "\u001b[0;31m---------------------------------------------------------------------------\u001b[0m",
      "\u001b[0;31mValueError\u001b[0m                                Traceback (most recent call last)",
      "Cell \u001b[0;32mIn[77], line 1\u001b[0m\n\u001b[0;32m----> 1\u001b[0m \u001b[43mv1\u001b[49m\u001b[38;5;241;43m+\u001b[39;49m\u001b[43m[\u001b[49m\u001b[38;5;241;43m2\u001b[39;49m\u001b[43m,\u001b[49m\u001b[43m \u001b[49m\u001b[38;5;241;43m3\u001b[39;49m\u001b[43m]\u001b[49m\n",
      "\u001b[0;31mValueError\u001b[0m: operands could not be broadcast together with shapes (4,) (2,) "
     ]
    }
   ],
   "source": [
    "v1+[2, 3]"
   ]
  },
  {
   "cell_type": "code",
   "execution_count": 2,
   "id": "005e0c01-67d9-4962-897f-6fb5364fedd9",
   "metadata": {
    "tags": []
   },
   "outputs": [
    {
     "ename": "NameError",
     "evalue": "name 'np' is not defined",
     "output_type": "error",
     "traceback": [
      "\u001b[1;31m---------------------------------------------------------------------------\u001b[0m",
      "\u001b[1;31mNameError\u001b[0m                                 Traceback (most recent call last)",
      "Cell \u001b[1;32mIn[2], line 1\u001b[0m\n\u001b[1;32m----> 1\u001b[0m desordenado \u001b[38;5;241m=\u001b[39m \u001b[43mnp\u001b[49m\u001b[38;5;241m.\u001b[39mrandom\u001b[38;5;241m.\u001b[39mnormal(\u001b[38;5;241m10\u001b[39m, \u001b[38;5;241m4\u001b[39m, (\u001b[38;5;241m3\u001b[39m,\u001b[38;5;241m3\u001b[39m))\n\u001b[0;32m      2\u001b[0m desordenado\n",
      "\u001b[1;31mNameError\u001b[0m: name 'np' is not defined"
     ]
    }
   ],
   "source": [
    "desordenado = np.random.normal(10, 4, (3,3))\n",
    "desordenado"
   ]
  },
  {
   "cell_type": "code",
   "execution_count": 79,
   "id": "03d94198-3303-4d78-a839-95c57333c8f0",
   "metadata": {
    "tags": []
   },
   "outputs": [
    {
     "data": {
      "text/plain": [
       "array([ 7.55298549,  8.44205901, 10.93793901, 11.03966984, 12.18031445,\n",
       "       12.61469125, 13.47006602, 14.79745161, 16.48239718, 18.95441118])"
      ]
     },
     "execution_count": 79,
     "metadata": {},
     "output_type": "execute_result"
    }
   ],
   "source": [
    "ordenado = np.sort(desordenado)\n",
    "ordenado"
   ]
  },
  {
   "cell_type": "code",
   "execution_count": 83,
   "id": "462d69a9-0621-453f-b47f-b5faf717396e",
   "metadata": {
    "tags": []
   },
   "outputs": [
    {
     "data": {
      "image/png": "[encoded data removed]",
      "text/plain": [
       "<Figure size 640x480 with 1 Axes>"
      ]
     },
     "metadata": {},
     "output_type": "display_data"
    }
   ],
   "source": [
    "import matplotlib.pyplot as plt \n",
    "import numpy as np \n",
    "x = np.linspace(0, 10, 10) \n",
    "plt.plot(x, np.sin(x)) \n",
    "plt.plot(x, np.cos(x)) \n",
    "plt.title(\"Graficas\")\n",
    "\n",
    "plt.show()"
   ]
  },
  {
   "cell_type": "code",
   "execution_count": null,
   "id": "bca8a778-935d-4120-9a9f-2acdb9735eda",
   "metadata": {},
   "outputs": [],
   "source": []
  }
 ],
 "metadata": {
  "kernelspec": {
   "display_name": "Python 3 (ipykernel)",
   "language": "python",
   "name": "python3"
  },
  "language_info": {
   "codemirror_mode": {
    "name": "ipython",
    "version": 3
   },
   "file_extension": ".py",
   "mimetype": "text/x-python",
   "name": "python",
   "nbconvert_exporter": "python",
   "pygments_lexer": "ipython3",
   "version": "3.10.4"
  }
 },
 "nbformat": 4,
 "nbformat_minor": 5
}
