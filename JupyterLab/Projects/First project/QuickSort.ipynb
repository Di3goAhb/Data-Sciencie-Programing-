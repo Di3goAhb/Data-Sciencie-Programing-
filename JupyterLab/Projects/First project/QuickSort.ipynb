{
 "cells": [
  {
   "cell_type": "code",
   "execution_count": null,
   "id": "165e808b-7d61-406c-bdf1-6b1abcb79707",
   "metadata": {},
   "outputs": [],
   "source": [
    "import numpy as np\n",
    "import time\n",
    "\n",
    "def quicksort(arr):\n",
    "    stack = [(0, len(arr)-1)]\n",
    "    while stack:\n",
    "        low, high = stack.pop()\n",
    "        if low < high:\n",
    "            pivot = partition(arr, low, high)\n",
    "            stack.append((low, pivot))\n",
    "            stack.append((pivot + 1, high))\n",
    "\n",
    "def partition(arr, low, high):\n",
    "    pivot = arr[(low + high) // 2]\n",
    "    i = low - 1\n",
    "    j = high + 1\n",
    "    while True:\n",
    "        i += 1\n",
    "        while arr[i] < pivot:\n",
    "            i += 1\n",
    "        j -= 1\n",
    "        while arr[j] > pivot:\n",
    "            j -= 1\n",
    "        if i >= j:\n",
    "            return j\n",
    "        arr[i], arr[j] = arr[j], arr[i]\n",
    "\n",
    "n = [10, 100, 1000, 10000, 100000, 1000000, 10000000, 100000000]\n",
    "for i in n:\n",
    "    arr = np.random.randint(0, 100, i)\n",
    "    start_time = time.time()\n",
    "    quicksort(arr)\n",
    "    end_time = time.time()\n",
    "    print(f\"Tiempo para ordenar {i} elementos: {end_time - start_time:.5f} segundos.\")\n",
    "Tiempo para ordenar 10 elementos: 0.00064 segundos.\n",
    "Tiempo para ordenar 100 elementos: 0.00070 segundos.\n",
    "Tiempo para ordenar 1000 elementos: 0.01007 segundos.\n",
    "Tiempo para ordenar 10000 elementos: 0.11922 segundos.\n",
    "Tiempo para ordenar 100000 elementos: 1.11365 segundos.\n",
    "Tiempo para ordenar 1000000 elementos: 13.87919 segundos.\n",
    "Tiempo para ordenar 10000000 elementos: 156.23403 segundos.\n",
    "Tiempo para ordenar 100000000 elementos: 1763.92157 segundos."
   ]
  }
 ],
 "metadata": {
  "kernelspec": {
   "display_name": "Python 3 (ipykernel)",
   "language": "python",
   "name": "python3"
  },
  "language_info": {
   "codemirror_mode": {
    "name": "ipython",
    "version": 3
   },
   "file_extension": ".py",
   "mimetype": "text/x-python",
   "name": "python",
   "nbconvert_exporter": "python",
   "pygments_lexer": "ipython3",
   "version": "3.10.4"
  }
 },
 "nbformat": 4,
 "nbformat_minor": 5
}
