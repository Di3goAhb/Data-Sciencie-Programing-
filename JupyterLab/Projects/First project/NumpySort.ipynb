{
 "cells": [
  {
   "cell_type": "code",
   "execution_count": null,
   "id": "165e808b-7d61-406c-bdf1-6b1abcb79707",
   "metadata": {},
   "outputs": [],
   "source": [
    "import numpy as np\n",
    "import timeit\n",
    "\n",
    "n = [10, 100, 1000, 10000, 100000, 1000000, 10000000, 100000000] \n",
    "\n",
    "for i in n:\n",
    "    arreglo = np.random.randint(1, 100, i)\n",
    "    iniciar_tiempo = timeit.default_timer()                    \n",
    "    np.sort(arreglo)\n",
    "    tiempo_total= timeit.default_timer() - iniciar_tiempo\n",
    "    print(f\"el tiempo de ordenamiento de {i} es: {tiempo_total} segundos\")\n",
    "el tiempo de ordenamiento de 10 es: 0.0011069159991166089 segundos\n",
    "el tiempo de ordenamiento de 100 es: 0.0006396700009645429 segundos\n",
    "el tiempo de ordenamiento de 1000 es: 0.00034126999889849685 segundos\n",
    "el tiempo de ordenamiento de 10000 es: 0.000819487999251578 segundos\n",
    "el tiempo de ordenamiento de 100000 es: 0.007069091996527277 segundos\n",
    "el tiempo de ordenamiento de 1000000 es: 0.07538596200174652 segundos\n",
    "el tiempo de ordenamiento de 10000000 es: 0.6727874110001721 segundos\n",
    "el tiempo de ordenamiento de 100000000 es: 7.900679432998004 segundos"
   ]
  }
 ],
 "metadata": {
  "kernelspec": {
   "display_name": "Python 3 (ipykernel)",
   "language": "python",
   "name": "python3"
  },
  "language_info": {
   "codemirror_mode": {
    "name": "ipython",
    "version": 3
   },
   "file_extension": ".py",
   "mimetype": "text/x-python",
   "name": "python",
   "nbconvert_exporter": "python",
   "pygments_lexer": "ipython3",
   "version": "3.10.4"
  }
 },
 "nbformat": 4,
 "nbformat_minor": 5
}
