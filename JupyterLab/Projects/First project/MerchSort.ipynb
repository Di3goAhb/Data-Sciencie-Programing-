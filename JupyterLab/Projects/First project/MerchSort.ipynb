{
 "cells": [
  {
   "cell_type": "code",
   "execution_count": 1,
   "id": "d3b31df0-60d0-44a9-a715-a3ed27919054",
   "metadata": {
    "tags": []
   },
   "outputs": [
    {
     "ename": "SyntaxError",
     "evalue": "invalid syntax (3889066720.py, line 53)",
     "output_type": "error",
     "traceback": [
      "\u001b[1;36m  Cell \u001b[1;32mIn[1], line 53\u001b[1;36m\u001b[0m\n\u001b[1;33m    Tiempo de ejecución para matriz de tamaño 10: 0.0023345947265625 segundos\u001b[0m\n\u001b[1;37m           ^\u001b[0m\n\u001b[1;31mSyntaxError\u001b[0m\u001b[1;31m:\u001b[0m invalid syntax\n"
     ]
    }
   ],
   "source": [
    "import numpy as np\n",
    "\n",
    "def merge_sort_iterative(arr):\n",
    "    n = len(arr)\n",
    "    curr_size = 1\n",
    "    \n",
    "    while curr_size < n - 1:\n",
    "        left = 0\n",
    "        while left < n - 1:\n",
    "            mid = min((left + curr_size - 1), (n - 1))\n",
    "            right = ((2 * curr_size + left - 1, n - 1)[2 * curr_size + left - 1 > n - 1])\n",
    "            merge(arr, left, mid, right)\n",
    "            left += 2 * curr_size\n",
    "        curr_size *= 2\n",
    "        \n",
    "def merge(arr, l, m, r):\n",
    "    n1 = m - l + 1\n",
    "    n2 = r - m\n",
    "    L = np.zeros(n1, dtype=int)\n",
    "    R = np.zeros(n2, dtype=int)\n",
    "    for i in range(n1):\n",
    "        L[i] = arr[l + i]\n",
    "    for j in range(n2):\n",
    "        R[j] = arr[m + 1 + j]\n",
    "    i = j = 0\n",
    "    k = l\n",
    "    while i < n1 and j < n2:\n",
    "        if L[i] <= R[j]:\n",
    "            arr[k] = L[i]\n",
    "            i += 1\n",
    "        else:\n",
    "            arr[k] = R[j]\n",
    "            j += 1\n",
    "        k += 1\n",
    "    while i < n1:\n",
    "        arr[k] = L[i]\n",
    "        i += 1\n",
    "        k += 1\n",
    "    while j < n2:\n",
    "        arr[k] = R[j]\n",
    "        j += 1\n",
    "        k += 1\n",
    "import numpy as np\n",
    "import time\n",
    "\n",
    "sizes = [10, 100, 1000, 10000, 100000, 1000000, 10000000, 100000000]\n",
    "for size in sizes:\n",
    "    arr = np.random.randint(0, 10000, size=size)\n",
    "    start_time = time.time()\n",
    "    merge_sort_iterative(arr)\n",
    "    end_time = time.time()\n",
    "    print(\"Tiempo de {}: {} segundos\".format(size, end_time - start_time))\n",
    "Tiempo de ejecución para matriz de tamaño 10: 0.0023345947265625 segundos\n",
    "Tiempo de ejecución para matriz de tamaño 100: 0.0012028217315673828 segundos\n",
    "Tiempo de ejecución para matriz de tamaño 1000: 0.023589134216308594 segundos\n",
    "Tiempo de ejecución para matriz de tamaño 10000: 0.23186326026916504 segundos\n",
    "Tiempo de ejecución para matriz de tamaño 100000: 2.553248882293701 segundos\n",
    "Tiempo de ejecución para matriz de tamaño 1000000: 28.919026136398315 segundos\n",
    "Tiempo de ejecución para matriz de tamaño 10000000: 337.1712701320648 segundos"
   ]
  },
  {
   "cell_type": "code",
   "execution_count": null,
   "id": "8af071bb-3518-41d2-b492-5c2be78c444c",
   "metadata": {},
   "outputs": [],
   "source": []
  }
 ],
 "metadata": {
  "kernelspec": {
   "display_name": "Python 3 (ipykernel)",
   "language": "python",
   "name": "python3"
  },
  "language_info": {
   "codemirror_mode": {
    "name": "ipython",
    "version": 3
   },
   "file_extension": ".py",
   "mimetype": "text/x-python",
   "name": "python",
   "nbconvert_exporter": "python",
   "pygments_lexer": "ipython3",
   "version": "3.10.4"
  }
 },
 "nbformat": 4,
 "nbformat_minor": 5
}
